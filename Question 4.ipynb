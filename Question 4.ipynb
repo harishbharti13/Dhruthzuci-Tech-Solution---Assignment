{
 "cells": [
  {
   "cell_type": "markdown",
   "metadata": {},
   "source": [
    "# Question 4"
   ]
  },
  {
   "cell_type": "markdown",
   "metadata": {},
   "source": [
    "Given a non-empty array of integers, every element appears twice except for one. Find that single one.\n",
    "Note:\n",
    "\n",
    "\n",
    "Your algorithm should have a linear runtime complexity. Could you implement it without using extra memory?\n",
    "\n",
    "\n",
    "Example 1:\n",
    "\n",
    "\n",
    "Input: [2,2,1]\n",
    "\n",
    "Output: 1\n",
    " \n",
    " \n",
    " \n",
    "Example 2:\n",
    "\n",
    "\n",
    "Input: [4,1,2,1,2]\n",
    "\n",
    "Output: 4\n"
   ]
  },
  {
   "cell_type": "code",
   "execution_count": 4,
   "metadata": {},
   "outputs": [
    {
     "name": "stdout",
     "output_type": "stream",
     "text": [
      "4 1 2 1 2\n",
      "4\n"
     ]
    }
   ],
   "source": [
    "def findSingle(arr, n):\n",
    "     \n",
    "    res = arr[0]\n",
    "     \n",
    "    # XOR of all elements and return\n",
    "    for i in range(1,n):\n",
    "        res = res ^ arr[i]\n",
    "     \n",
    "    return res\n",
    " \n",
    "arr = [int(i) for i in input().split()]\n",
    "print(findSingle(arr, len(arr)))"
   ]
  },
  {
   "cell_type": "markdown",
   "metadata": {},
   "source": [
    "# Explaination"
   ]
  },
  {
   "cell_type": "markdown",
   "metadata": {},
   "source": [
    "res = 4 ^ (1 ^ 1) ^ (2 ^ 2)   \n",
    "    = 4 ^ 0 ^ 0 \n",
    "    = 4 ^ 0\n",
    "    = 4 "
   ]
  },
  {
   "cell_type": "markdown",
   "metadata": {},
   "source": [
    "The time complexity of this solution is O(n) and it requires O(1) extra space."
   ]
  },
  {
   "cell_type": "code",
   "execution_count": null,
   "metadata": {},
   "outputs": [],
   "source": []
  }
 ],
 "metadata": {
  "kernelspec": {
   "display_name": "Python 3",
   "language": "python",
   "name": "python3"
  },
  "language_info": {
   "codemirror_mode": {
    "name": "ipython",
    "version": 3
   },
   "file_extension": ".py",
   "mimetype": "text/x-python",
   "name": "python",
   "nbconvert_exporter": "python",
   "pygments_lexer": "ipython3",
   "version": "3.7.3"
  }
 },
 "nbformat": 4,
 "nbformat_minor": 2
}
